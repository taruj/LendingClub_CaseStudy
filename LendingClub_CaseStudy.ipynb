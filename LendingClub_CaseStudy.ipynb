{
  "nbformat": 4,
  "nbformat_minor": 0,
  "metadata": {
    "colab": {
      "name": "LendingClub_CaseStudy.ipynb",
      "provenance": [],
      "authorship_tag": "ABX9TyMREmHu1C65FJwJo+Jtu4jW",
      "include_colab_link": true
    },
    "kernelspec": {
      "name": "python3",
      "display_name": "Python 3"
    },
    "language_info": {
      "name": "python"
    }
  },
  "cells": [
    {
      "cell_type": "markdown",
      "metadata": {
        "id": "view-in-github",
        "colab_type": "text"
      },
      "source": [
        "<a href=\"https://colab.research.google.com/github/taruj/LendingClub_CaseStudy/blob/main/LendingClub_CaseStudy.ipynb\" target=\"_parent\"><img src=\"https://colab.research.google.com/assets/colab-badge.svg\" alt=\"Open In Colab\"/></a>"
      ]
    },
    {
      "cell_type": "markdown",
      "source": [
        "# **Lending Club - Case Study**\n",
        "### Group Facilitator: Taruj Bhattacharya\n",
        "### Group Member: Nikhil Shinde\n",
        "\n",
        "## Exploratory Data Analysis of Lending Club Data to Identify drivers for approving or rejecting loans based on applicant profile.\n",
        "\n",
        "#### Problem Statement (Business Definition)\n",
        "When the company receives a loan application, the company has to make a decision for loan approval based on the applicant’s profile. Two types of risks are associated with the bank’s decision:\n",
        "\n",
        "\n",
        "\n",
        "*   If the applicant **is likely** to repay the loan, then not approving the loan results in a loss (Loss of Business)\n",
        "*   If the applicant is **not likely** to repay the loan, approving the loan may lead to a financial loss for the company (Default)\n"
      ],
      "metadata": {
        "id": "QYz5LUV7ghuA"
      }
    },
    {
      "cell_type": "code",
      "source": [
        ""
      ],
      "metadata": {
        "id": "i6sAipjfiOOB"
      },
      "execution_count": null,
      "outputs": []
    }
  ]
}